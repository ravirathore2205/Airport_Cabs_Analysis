{
 "cells": [
  {
   "cell_type": "code",
   "execution_count": 21,
   "id": "837847a3-0c86-4089-b610-aff7c4c1da75",
   "metadata": {},
   "outputs": [],
   "source": [
    "import pandas as pd #impotred pandas libraryto read the CSV file"
   ]
  },
  {
   "cell_type": "code",
   "execution_count": 2,
   "id": "174c1624-2521-43d2-8632-9308a5015626",
   "metadata": {},
   "outputs": [],
   "source": [
    "import numpy as np #imported Numpy to do mathematical operations on the csv file"
   ]
  },
  {
   "cell_type": "code",
   "execution_count": 3,
   "id": "7d7443b2-d2c0-4a41-bc16-c5487ea43da8",
   "metadata": {},
   "outputs": [],
   "source": [
    "taxi = pd.read_csv(\"nyc_taxis.csv\")"
   ]
  },
  {
   "cell_type": "code",
   "execution_count": 4,
   "id": "79bb569e-d3b2-433e-ac9a-7e175b9c8ec7",
   "metadata": {},
   "outputs": [],
   "source": [
    "taxis = np.genfromtxt(\"nyc_taxis.csv\", delimiter=',',skip_header = True) "
   ]
  },
  {
   "cell_type": "code",
   "execution_count": 5,
   "id": "f8618a40-c7db-4164-a372-13efe9b6a247",
   "metadata": {},
   "outputs": [],
   "source": [
    "speed = taxis[:,7]/taxis[:,8]/3600"
   ]
  },
  {
   "cell_type": "code",
   "execution_count": 6,
   "id": "77393c8b-9c03-4134-add0-b6aa2658960a",
   "metadata": {},
   "outputs": [],
   "source": [
    "mean_speed = speed.mean()"
   ]
  },
  {
   "cell_type": "code",
   "execution_count": 7,
   "id": "8a93d41b-446f-4bb2-92ca-6ebe42f8428e",
   "metadata": {},
   "outputs": [
    {
     "name": "stdout",
     "output_type": "stream",
     "text": [
      "2.487853843306769e-06\n"
     ]
    }
   ],
   "source": [
    "print(mean_speed)"
   ]
  },
  {
   "cell_type": "code",
   "execution_count": 9,
   "id": "69691092-c386-41f3-9928-0a24aad79394",
   "metadata": {},
   "outputs": [
    {
     "data": {
      "text/plain": [
       "89560"
      ]
     },
     "execution_count": 9,
     "metadata": {},
     "output_type": "execute_result"
    }
   ],
   "source": [
    "taxis.shape[0]"
   ]
  },
  {
   "cell_type": "code",
   "execution_count": 10,
   "id": "871f01d7-8608-455a-bfeb-94b868afcc45",
   "metadata": {},
   "outputs": [],
   "source": [
    "avg_tipamount = taxis[:,12].mean()"
   ]
  },
  {
   "cell_type": "code",
   "execution_count": 11,
   "id": "4ede13cd-70fd-4472-880f-72f4f6fc290f",
   "metadata": {},
   "outputs": [
    {
     "name": "stdout",
     "output_type": "stream",
     "text": [
      "5.814489169271996\n"
     ]
    }
   ],
   "source": [
    "print(avg_tipamount)"
   ]
  },
  {
   "cell_type": "markdown",
   "id": "7a711f50-a2d9-48b3-96df-5d67f639b55b",
   "metadata": {},
   "source": [
    "**Average Fare Amount**"
   ]
  },
  {
   "cell_type": "code",
   "execution_count": 19,
   "id": "99d7f526-1c75-4882-8131-c058ad94c464",
   "metadata": {},
   "outputs": [],
   "source": [
    "fare_amount = taxis[:,9].mean()"
   ]
  },
  {
   "cell_type": "code",
   "execution_count": 20,
   "id": "2e66ac03-0d58-4fca-95fa-dfd7890cd5e7",
   "metadata": {},
   "outputs": [
    {
     "name": "stdout",
     "output_type": "stream",
     "text": [
      "38.404484033050466\n"
     ]
    }
   ],
   "source": [
    "print(fare_amount)"
   ]
  },
  {
   "cell_type": "markdown",
   "id": "27c4a4c5-bfc6-4bf8-9fc3-187d19e21b9c",
   "metadata": {},
   "source": [
    "**Number of rides taken in February Month**"
   ]
  },
  {
   "cell_type": "code",
   "execution_count": 31,
   "id": "1d1dafad-fc22-459a-8d0d-de60b7123422",
   "metadata": {},
   "outputs": [],
   "source": [
    "rides_feb = taxis[taxis[: , 1] == 2,1]"
   ]
  },
  {
   "cell_type": "code",
   "execution_count": 34,
   "id": "29c3180f-27ba-4775-8a7e-17dcb41ba517",
   "metadata": {},
   "outputs": [
    {
     "name": "stdout",
     "output_type": "stream",
     "text": [
      "13333\n"
     ]
    }
   ],
   "source": [
    "print(rides_feb.shape[0])"
   ]
  },
  {
   "cell_type": "markdown",
   "id": "6b75a26e-c4ee-400e-ab00-91d8df9feb43",
   "metadata": {},
   "source": [
    "**Number of rides where tip is more than $50**"
   ]
  },
  {
   "cell_type": "code",
   "execution_count": 40,
   "id": "d40c91e3-1b9f-419d-a3ce-f2d5a88cacc9",
   "metadata": {},
   "outputs": [],
   "source": [
    " rides_50 =taxis[taxis[: , -3] > 50,-3]"
   ]
  },
  {
   "cell_type": "code",
   "execution_count": 41,
   "id": "4ec07670-5055-4458-9f60-9f4946bc0957",
   "metadata": {},
   "outputs": [
    {
     "name": "stdout",
     "output_type": "stream",
     "text": [
      "16\n"
     ]
    }
   ],
   "source": [
    "print(rides_50.shape[0])"
   ]
  },
  {
   "cell_type": "markdown",
   "id": "66c40434-92f5-42c8-891f-c60feee3f48c",
   "metadata": {},
   "source": [
    "**Number of rides where drop was JFK Airport**"
   ]
  },
  {
   "cell_type": "code",
   "execution_count": 43,
   "id": "128ef174-edbf-43da-95e6-540819592102",
   "metadata": {},
   "outputs": [],
   "source": [
    "rides_jfk = taxis[taxis[: , 6] == 2,6]"
   ]
  },
  {
   "cell_type": "code",
   "execution_count": 44,
   "id": "a3fcd6cc-db69-48c4-9625-debd46bbfbec",
   "metadata": {},
   "outputs": [
    {
     "name": "stdout",
     "output_type": "stream",
     "text": [
      "11832\n"
     ]
    }
   ],
   "source": [
    "print(rides_jfk.shape[0])"
   ]
  },
  {
   "cell_type": "code",
   "execution_count": null,
   "id": "1df2286c-eb95-49ed-997a-695f9d37ee15",
   "metadata": {},
   "outputs": [],
   "source": []
  }
 ],
 "metadata": {
  "kernelspec": {
   "display_name": "Python 3 (ipykernel)",
   "language": "python",
   "name": "python3"
  },
  "language_info": {
   "codemirror_mode": {
    "name": "ipython",
    "version": 3
   },
   "file_extension": ".py",
   "mimetype": "text/x-python",
   "name": "python",
   "nbconvert_exporter": "python",
   "pygments_lexer": "ipython3",
   "version": "3.11.5"
  }
 },
 "nbformat": 4,
 "nbformat_minor": 5
}
